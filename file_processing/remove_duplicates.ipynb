{
 "cells": [
  {
   "cell_type": "code",
   "execution_count": 1,
   "id": "83773059",
   "metadata": {},
   "outputs": [
    {
     "name": "stdout",
     "output_type": "stream",
     "text": [
      "cuML: Accelerator installed.\n"
     ]
    }
   ],
   "source": [
    "%load_ext cuml.accel\n",
    "%load_ext cudf.pandas"
   ]
  },
  {
   "cell_type": "code",
   "execution_count": 2,
   "id": "369716cb",
   "metadata": {},
   "outputs": [],
   "source": [
    "import torch, torchaudio, faiss\n",
    "from faiss import StandardGpuResources, index_cpu_to_gpu\n",
    "import os\n",
    "import pickle\n",
    "import pandas as pd\n",
    "import numpy as np\n",
    "from concurrent.futures import ThreadPoolExecutor, as_completed"
   ]
  },
  {
   "cell_type": "code",
   "execution_count": 3,
   "id": "0a77864a",
   "metadata": {},
   "outputs": [
    {
     "name": "stdout",
     "output_type": "stream",
     "text": [
      "Using device: cuda\n"
     ]
    }
   ],
   "source": [
    "# Check if GPU is available\n",
    "device = torch.device('cuda' if torch.cuda.is_available() else 'cpu')\n",
    "print(f\"Using device: {device}\")"
   ]
  },
  {
   "cell_type": "code",
   "execution_count": 4,
   "id": "c039c582",
   "metadata": {},
   "outputs": [],
   "source": [
    "# Cell 3: Load pretrained Wav2Vec2 model on GPU\n",
    "bundle = torchaudio.pipelines.WAV2VEC2_BASE\n",
    "model = bundle.get_model().to(device).eval()"
   ]
  },
  {
   "cell_type": "code",
   "execution_count": 5,
   "id": "2d086190",
   "metadata": {},
   "outputs": [],
   "source": [
    "# Cell 4: Define functions for loading, preprocessing, embedding extraction\n",
    "\n",
    "def load_and_preprocess(path, max_seconds=30):\n",
    "    # Load MP3 file\n",
    "    waveform, sample_rate = torchaudio.load(path)\n",
    "    \n",
    "    # Trim to max_seconds if longer\n",
    "    max_samples = max_seconds * sample_rate\n",
    "    if waveform.size(1) > max_samples:\n",
    "        waveform = waveform[:, :max_samples]\n",
    "    \n",
    "    # Resample if needed\n",
    "    if sample_rate != bundle.sample_rate:\n",
    "        resampler = torchaudio.transforms.Resample(orig_freq=sample_rate, new_freq=bundle.sample_rate)\n",
    "        waveform = resampler(waveform)\n",
    "        \n",
    "    return waveform\n",
    "\n",
    "def extract_embedding(waveform):\n",
    "    waveform = waveform.to(device)\n",
    "    with torch.inference_mode():\n",
    "        features, _ = model.extract_features(waveform)\n",
    "        embedding = features[-1].mean(dim=1).squeeze().cpu().numpy()\n",
    "    return embedding\n",
    "\n",
    "def process_file(path):\n",
    "    try:\n",
    "        waveform = load_and_preprocess(path)\n",
    "        embedding = extract_embedding(waveform)\n",
    "        return path, embedding\n",
    "    except Exception as e:\n",
    "        print(f\"Failed processing {path}: {e}\")\n",
    "        return path, None"
   ]
  },
  {
   "cell_type": "code",
   "execution_count": 6,
   "id": "6632ed98",
   "metadata": {},
   "outputs": [],
   "source": [
    "# Cell 5: Parallel embedding extraction with ThreadPoolExecutor\n",
    "\n",
    "def get_embeddings_parallel(filepaths, max_workers=4):\n",
    "    embeddings = []\n",
    "    valid_paths = []\n",
    "\n",
    "    with ThreadPoolExecutor(max_workers=max_workers) as executor:\n",
    "        futures = {executor.submit(process_file, path): path for path in filepaths}\n",
    "        for future in as_completed(futures):\n",
    "            path, emb = future.result()\n",
    "            if emb is not None:\n",
    "                embeddings.append(emb)\n",
    "                valid_paths.append(path)\n",
    "    embeddings = np.vstack(embeddings) if embeddings else np.array([])\n",
    "    return embeddings, valid_paths"
   ]
  },
  {
   "cell_type": "code",
   "execution_count": 7,
   "id": "7bc629cc",
   "metadata": {},
   "outputs": [],
   "source": [
    "# Cell 6: Remove duplicates using FAISS GPU or CPU index\n",
    "\n",
    "def remove_duplicates(embeddings, filepaths, threshold=0.8):\n",
    "    d = embeddings.shape[1]\n",
    "    if device.type == 'cuda':\n",
    "        embeddings = embeddings.astype(np.float32)\n",
    "        res = faiss.StandardGpuResources()\n",
    "        index = faiss.GpuIndexFlatL2(res, d)\n",
    "    else:\n",
    "        index = faiss.IndexFlatL2(d)\n",
    "\n",
    "    index.add(embeddings)\n",
    "    k = 2\n",
    "    D, I = index.search(embeddings, k)\n",
    "\n",
    "    to_remove = set()\n",
    "    for i in range(len(filepaths)):\n",
    "        if i in to_remove:\n",
    "            continue\n",
    "        nearest_idx = I[i][1]\n",
    "        dist = D[i][1]\n",
    "        if dist < threshold:\n",
    "            to_remove.add(nearest_idx)\n",
    "\n",
    "    filtered_files = [f for i, f in enumerate(filepaths) if i not in to_remove]\n",
    "    filtered_embeds = np.array([embeddings[i] for i in range(len(filepaths)) if i not in to_remove])\n",
    "    return filtered_embeds, filtered_files, to_remove"
   ]
  },
  {
   "cell_type": "code",
   "execution_count": 8,
   "id": "0ebfb479",
   "metadata": {},
   "outputs": [],
   "source": [
    "with open('/home/tyler/Downloads/kpop_project/create_model/local_Songs.pkl', 'rb') as f:\n",
    "    Songs = pickle.load(f)\n",
    "data = [vars(song) for song in Songs]\n",
    "df = pd.DataFrame(data)\n",
    "filepaths = df['path'].tolist()"
   ]
  },
  {
   "cell_type": "code",
   "execution_count": null,
   "id": "93767acd",
   "metadata": {},
   "outputs": [],
   "source": [
    "# Cell 8: Run parallel embedding extraction and duplicate removal\n",
    "\n",
    "max_workers = 16  # Adjust depending on your CPU cores\n",
    "\n",
    "embeddings, valid_paths = get_embeddings_parallel(filepaths, max_workers=max_workers)"
   ]
  },
  {
   "cell_type": "code",
   "execution_count": null,
   "id": "4d6d1c5c",
   "metadata": {},
   "outputs": [],
   "source": [
    "threshold = 0.8  # Tune threshold based on your data and results\n",
    "filtered_embeds, filtered_files, duplicates = remove_duplicates(embeddings, valid_paths, threshold)\n",
    "\n",
    "print(f\"Original file count: {len(filepaths)}\")\n",
    "print(f\"Successfully processed: {len(valid_paths)}\")\n",
    "print(f\"Duplicates removed: {len(duplicates)}\")\n",
    "print(f\"Unique songs remaining: {len(filtered_files)}\")"
   ]
  }
 ],
 "metadata": {
  "kernelspec": {
   "display_name": "faiss_env",
   "language": "python",
   "name": "python3"
  },
  "language_info": {
   "codemirror_mode": {
    "name": "ipython",
    "version": 3
   },
   "file_extension": ".py",
   "mimetype": "text/x-python",
   "name": "python",
   "nbconvert_exporter": "python",
   "pygments_lexer": "ipython3",
   "version": "3.10.18"
  }
 },
 "nbformat": 4,
 "nbformat_minor": 5
}
