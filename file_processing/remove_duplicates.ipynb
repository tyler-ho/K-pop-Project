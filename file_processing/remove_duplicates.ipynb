{
 "cells": [
  {
   "cell_type": "code",
   "execution_count": null,
   "id": "369716cb",
   "metadata": {},
   "outputs": [],
   "source": [
    "import torch, torchaudio, faiss\n",
    "from faiss import StandardGpuResources, index_cpu_to_gpu"
   ]
  },
  {
   "cell_type": "code",
   "execution_count": null,
   "id": "0cbb9635",
   "metadata": {},
   "outputs": [],
   "source": [
    "# 1) Embed batch of audio files\n",
    "def embed_batch(filepaths, model, device='cuda'):\n",
    "    waves = []\n",
    "    for f in filepaths:\n",
    "        w, sr = torchaudio.load(f)\n",
    "        w = torchaudio.transforms.Resample(sr,16000)(w)\n",
    "        waves.append(w.to(device))\n",
    "    waves = torch.nn.utils.rnn.pad_sequence(waves, batch_first=True)\n",
    "    mels = torchaudio.transforms.MelSpectrogram(16000)(waves)  # [B, n_mels, T]\n",
    "    with torch.no_grad():\n",
    "        emb = model(mels)  # your model → [B, D]\n",
    "    return torch.nn.functional.normalize(emb, dim=1).cpu().numpy()"
   ]
  },
  {
   "cell_type": "code",
   "execution_count": null,
   "id": "2b889bcc",
   "metadata": {},
   "outputs": [],
   "source": [
    "# 2) Build FAISS GPU index\n",
    "D = 128\n",
    "res = StandardGpuResources()\n",
    "cpu_index = faiss.IndexFlatIP(D)             # inner-product on normalized vectors = cosine\n",
    "gpu_index = index_cpu_to_gpu(res, 0, cpu_index)\n",
    "gpu_index.add(all_embeddings)                 # all_embeddings: np.float32[N×D]"
   ]
  },
  {
   "cell_type": "code",
   "execution_count": null,
   "id": "dc0d0cdb",
   "metadata": {},
   "outputs": [],
   "source": [
    "# 3) Radius search\n",
    "radius = 0.8                                # tune between 0.7–0.9\n",
    "lims, Dists, Ids = gpu_index.range_search(all_embeddings, radius)\n",
    "# range_search returns: lims: (N+1) prefix-sum of counts, flat arrays Dists/Ids"
   ]
  },
  {
   "cell_type": "code",
   "execution_count": null,
   "id": "823913dc",
   "metadata": {},
   "outputs": [],
   "source": [
    "# 4) Build clusters (simple CPU union-find)\n",
    "parent = list(range(N))\n",
    "def find(x):\n",
    "    while parent[x]!=x:\n",
    "        parent[x]=parent[parent[x]]\n",
    "        x=parent[x]\n",
    "    return x\n",
    "def unite(a,b):\n",
    "    ra,rb = find(a), find(b)\n",
    "    if ra!=rb: parent[rb]=ra\n",
    "\n",
    "for i in range(N):\n",
    "    for idx in range(lims[i], lims[i+1]):\n",
    "        j = Ids[idx]\n",
    "        if i!=j:\n",
    "            unite(i,j)\n",
    "\n",
    "clusters = {}\n",
    "for i in range(N):\n",
    "    r = find(i)\n",
    "    clusters.setdefault(r, []).append(i)"
   ]
  },
  {
   "cell_type": "code",
   "execution_count": null,
   "id": "3fd29b7e",
   "metadata": {},
   "outputs": [],
   "source": [
    "# 5) Pick representatives & filter\n",
    "filtered = []\n",
    "for members in clusters.values():\n",
    "    # e.g. pick the longest duration file\n",
    "    best = max(members, key=lambda i: metadata[i].duration)\n",
    "    filtered.append(best)"
   ]
  }
 ],
 "metadata": {
  "kernelspec": {
   "display_name": "faiss_env",
   "language": "python",
   "name": "python3"
  },
  "language_info": {
   "codemirror_mode": {
    "name": "ipython",
    "version": 3
   },
   "file_extension": ".py",
   "mimetype": "text/x-python",
   "name": "python",
   "nbconvert_exporter": "python",
   "pygments_lexer": "ipython3",
   "version": "3.10.18"
  }
 },
 "nbformat": 4,
 "nbformat_minor": 5
}
